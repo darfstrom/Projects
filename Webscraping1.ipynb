{
 "cells": [
  {
   "cell_type": "code",
   "execution_count": 2,
   "id": "c2846240",
   "metadata": {},
   "outputs": [],
   "source": [
    "#import libraries\n",
    "\n",
    "from bs4 import BeautifulSoup\n",
    "import requests\n",
    "import smtplib\n",
    "import time\n",
    "import datetime\n"
   ]
  },
  {
   "cell_type": "code",
   "execution_count": 36,
   "id": "5a9b7ba4",
   "metadata": {},
   "outputs": [
    {
     "name": "stdout",
     "output_type": "stream",
     "text": [
      "\n",
      "            Nespresso Capsules VertuoLine, Iced Coffee, Iced Forte, 30 Count, Brews 7.77 Ounce\n",
      "           \n",
      "\n",
      "                        $36.05\n",
      "                       \n",
      "\n",
      "\n",
      "                  4.8 out of 5\n",
      "                 \n",
      "\n"
     ]
    }
   ],
   "source": [
    "# Connect to Website and pull in data\n",
    "\n",
    "URL = 'https://www.amazon.com/Nespresso-Iced-Forte-30Count-Pack/dp/B08J25GB8G/ref=sr_1_2?crid=2AGLQ3MNNNSOY&keywords=nespresso%2Bpods%2Bcold%2Bbrew%2B7.7oz&qid=1654466875&sprefix=nespresso%2Bpods%2Bcold%2Bbrew%2B7.7oz%2Caps%2C83&sr=8-2&th=1'\n",
    "#http://httpbin.org/get, copy user agent line and paste up until 'accept-endcoding'\n",
    "headers = {\"User-Agent\": \"Mozilla/5.0 (Windows NT 10.0; Win64; x64) AppleWebKit/537.36 (KHTML, like Gecko) Chrome/102.0.5005.63 Safari/537.36 Edg/102.0.1245.33\", \"Accept-Encoding\":\"gzip, deflate\", \"Accept\":\"text/html,application/xhtml+xml,application/xml;q=0.9,*/*;q=0.8\", \"DNT\":\"1\",\"Connection\":\"close\", \"Upgrade-Insecure-Requests\":\"1\"}\n",
    "\n",
    "page = requests.get(URL, headers=headers)\n",
    "\n",
    "soup1 = BeautifulSoup(page.content, \"html.parser\")\n",
    "\n",
    "soup2 = BeautifulSoup(soup1.prettify(), \"html.parser\")\n",
    "\n",
    "#inspect, highlight over priceblock, take class\n",
    "title = soup2.find(id='productTitle').get_text()\n",
    "price = soup2.find('span',{'class':'a-offscreen'}).get_text()\n",
    "rating = soup2.find('span',{'class':'a-size-base a-nowrap'}).get_text()\n",
    "\n",
    "print(title)\n",
    "print(price)\n",
    "print(rating)"
   ]
  },
  {
   "cell_type": "code",
   "execution_count": 37,
   "id": "f42f1306",
   "metadata": {},
   "outputs": [
    {
     "name": "stdout",
     "output_type": "stream",
     "text": [
      "Nespresso Capsules VertuoLine, Iced Coffee, Iced Forte, 30 Count, Brews 7.77 Ounce\n",
      "36.05\n",
      "4.8\n"
     ]
    }
   ],
   "source": [
    "rating = rating.strip()[:3]\n",
    "price = price.strip()[1:]\n",
    "title = title.strip()\n",
    "\n",
    "print(title)\n",
    "print(price)\n",
    "print(rating)"
   ]
  },
  {
   "cell_type": "code",
   "execution_count": 38,
   "id": "d4481dfe",
   "metadata": {},
   "outputs": [
    {
     "name": "stdout",
     "output_type": "stream",
     "text": [
      "2022-06-05\n"
     ]
    }
   ],
   "source": [
    "import datetime\n",
    "\n",
    "today = datetime.date.today()\n",
    "\n",
    "print(today)"
   ]
  },
  {
   "cell_type": "code",
   "execution_count": 39,
   "id": "fd3a6bde",
   "metadata": {},
   "outputs": [],
   "source": [
    "import csv\n",
    "\n",
    "header = ['Title','Price','Rating','Date']\n",
    "data = [title,price,rating,today]\n",
    "\n",
    "with open('AmazonWebScaperDataset.csv','w',newline='',encoding='UTF8') as f:\n",
    "    writer = csv.writer(f)\n",
    "    writer.writerow(header)\n",
    "    writer.writerow(data)\n",
    "    \n",
    "#thispc>>OSc>>users>>darfs>>amazonwebscraperdataset\n",
    "#!!!!!note!!!!! if restarting computer and do not want to delete all the data, comment out lines 6-9 of this command window so data doesn't reset"
   ]
  },
  {
   "cell_type": "code",
   "execution_count": 40,
   "id": "8f802889",
   "metadata": {},
   "outputs": [
    {
     "name": "stdout",
     "output_type": "stream",
     "text": [
      "                                               Title  Price  Rating  \\\n",
      "0  Nespresso Capsules VertuoLine, Iced Coffee, Ic...  36.05     4.8   \n",
      "\n",
      "         Date  \n",
      "0  2022-06-05  \n"
     ]
    }
   ],
   "source": [
    "import pandas as pd\n",
    "\n",
    "df = pd.read_csv(r'C:\\Users\\darfs\\AmazonWebScaperDataset.csv')\n",
    "\n",
    "print(df)"
   ]
  },
  {
   "cell_type": "code",
   "execution_count": 41,
   "id": "0cbeab5a",
   "metadata": {},
   "outputs": [],
   "source": [
    "#appending data to csv\n",
    "\n",
    "with open('AmazonWebScaperDataset.csv','a+',newline='',encoding='UTF8') as f:\n",
    "    writer = csv.writer(f)\n",
    "    writer.writerow(data)"
   ]
  },
  {
   "cell_type": "code",
   "execution_count": 43,
   "id": "36d369f7",
   "metadata": {},
   "outputs": [],
   "source": [
    "#automating process\n",
    "\n",
    "def price_check():\n",
    "    URL = 'https://www.amazon.com/Nespresso-Iced-Forte-30Count-Pack/dp/B08J25GB8G/ref=sr_1_2?crid=2AGLQ3MNNNSOY&keywords=nespresso%2Bpods%2Bcold%2Bbrew%2B7.7oz&qid=1654466875&sprefix=nespresso%2Bpods%2Bcold%2Bbrew%2B7.7oz%2Caps%2C83&sr=8-2&th=1'\n",
    "\n",
    "    headers = {\"User-Agent\": \"Mozilla/5.0 (Windows NT 10.0; Win64; x64) AppleWebKit/537.36 (KHTML, like Gecko) Chrome/102.0.5005.63 Safari/537.36 Edg/102.0.1245.33\", \"Accept-Encoding\":\"gzip, deflate\", \"Accept\":\"text/html,application/xhtml+xml,application/xml;q=0.9,*/*;q=0.8\", \"DNT\":\"1\",\"Connection\":\"close\", \"Upgrade-Insecure-Requests\":\"1\"}\n",
    "\n",
    "    page = requests.get(URL, headers=headers)\n",
    "\n",
    "    soup1 = BeautifulSoup(page.content, \"html.parser\")\n",
    "\n",
    "    soup2 = BeautifulSoup(soup1.prettify(), \"html.parser\")\n",
    "\n",
    "    title = soup2.find(id='productTitle').get_text()\n",
    "    price = soup2.find('span',{'class':'a-offscreen'}).get_text()\n",
    "    rating = soup2.find('span',{'class':'a-size-base a-nowrap'}).get_text()\n",
    "    \n",
    "    rating = rating.strip()[:3]\n",
    "    price = price.strip()[1:]\n",
    "    title = title.strip()\n",
    "\n",
    "    import datetime\n",
    "    today = datetime.date.today()\n",
    "    print(today)\n",
    "    \n",
    "    import csv\n",
    "    header = ['Title','Price','Rating','Date']\n",
    "    data = [title,price,rating,today]\n",
    "    \n",
    "    with open('AmazonWebScaperDataset.csv','a+',newline='',encoding='UTF8') as f:\n",
    "        writer = csv.writer(f)\n",
    "        writer.writerow(data)\n",
    "        \n",
    "      #  if(price<30):\n",
    "          #  send_mail()"
   ]
  },
  {
   "cell_type": "code",
   "execution_count": null,
   "id": "e623b423",
   "metadata": {},
   "outputs": [
    {
     "name": "stdout",
     "output_type": "stream",
     "text": [
      "2022-06-05\n"
     ]
    }
   ],
   "source": [
    "#runnning once a day, everyday #TIME IN SECONDS\n",
    "while(True):\n",
    "    price_check()\n",
    "    time.sleep(86400)"
   ]
  },
  {
   "cell_type": "code",
   "execution_count": null,
   "id": "53875bcd",
   "metadata": {},
   "outputs": [],
   "source": [
    "import pandas as pd\n",
    "\n",
    "df = pd.read_csv(r'C:\\Users\\darfs\\AmazonWebScaperDataset.csv')\n",
    "\n",
    "print(df)"
   ]
  },
  {
   "cell_type": "code",
   "execution_count": null,
   "id": "b0cfb00d",
   "metadata": {},
   "outputs": [],
   "source": [
    "# If uou want to try sending yourself an email (just for fun) when a price hits below a certain level you can try it\n",
    "# out with this script\n",
    "#!!!NOTE!!!! Uncomment ifprice<30 and sendmail for this to work\n",
    "\n",
    "#def send_mail():\n",
    "    #server = smtplib.SMTP_SSL('smtp.gmail.com',465)\n",
    "    #server.ehlo()\n",
    "    #server.starttls() #maybe delete this line entirely to run successfully\n",
    "   #server.ehlo()\n",
    "    #erver.login('xxxuserxxxxx','xxxxxpasswordxxxxxxxxxxxxxx')\n",
    "    \n",
    "    #subject = \"The coffee you want is below $30! Now is your chance to buy!\"\n",
    "    #body = \" This is the moment we have been waiting for. Now is your chance to pick up the shirt of your dreams. Don't mess it up! Link here:https://www.amazon.com/Nespresso-Iced-Forte-30Count-Pack/dp/B08J25GB8G/ref=sr_1_2?crid=2AGLQ3MNNNSOY&keywords=nespresso%2Bpods%2Bcold%2Bbrew%2B7.7oz&qid=1654466875&sprefix=nespresso%2Bpods%2Bcold%2Bbrew%2B7.7oz%2Caps%2C83&sr=8-2&th=1\"\n",
    "   \n",
    "    #msg = f\"Subject: {subject}\\n\\n{body}\"\n",
    "    \n",
    "    #server.sendmail(\n",
    "      #  'XXXXXXX@gmail.com',\n",
    "       # msg\n",
    "     \n",
    "  #  )"
   ]
  }
 ],
 "metadata": {
  "kernelspec": {
   "display_name": "Python 3 (ipykernel)",
   "language": "python",
   "name": "python3"
  },
  "language_info": {
   "codemirror_mode": {
    "name": "ipython",
    "version": 3
   },
   "file_extension": ".py",
   "mimetype": "text/x-python",
   "name": "python",
   "nbconvert_exporter": "python",
   "pygments_lexer": "ipython3",
   "version": "3.9.12"
  }
 },
 "nbformat": 4,
 "nbformat_minor": 5
}
